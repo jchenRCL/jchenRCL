{
  "nbformat": 4,
  "nbformat_minor": 0,
  "metadata": {
    "colab": {
      "name": "Visualizing_funding_pipeline.ipynb",
      "provenance": [],
      "private_outputs": true,
      "include_colab_link": true
    },
    "kernelspec": {
      "name": "python3",
      "display_name": "Python 3"
    }
  },
  "cells": [
    {
      "cell_type": "markdown",
      "metadata": {
        "id": "view-in-github",
        "colab_type": "text"
      },
      "source": [
        "<a href=\"https://colab.research.google.com/github/jchenRCL/jchenRCL/blob/master/Visualizing_funding_pipeline.ipynb\" target=\"_parent\"><img src=\"https://colab.research.google.com/assets/colab-badge.svg\" alt=\"Open In Colab\"/></a>"
      ]
    },
    {
      "cell_type": "markdown",
      "metadata": {
        "id": "5pyMBnO_jS0y",
        "colab_type": "text"
      },
      "source": [
        "# Visualizing a funding pipeline using the Dimensions API\n"
      ]
    },
    {
      "cell_type": "code",
      "metadata": {
        "id": "nfkfNPk_jRVz",
        "colab_type": "code",
        "colab": {}
      },
      "source": [
        "endpoint = \"https://app.dimensions.ai\"\n",
        "\n",
        "!pip install dimcli -U --quiet\n",
        "\n",
        "# import all libraries and login\n",
        "import pandas as pd\n",
        "import numpy as np\n",
        "import dimcli\n",
        "from getpass import getpass\n",
        "import json\n",
        "\n",
        "import datetime\n",
        "\n",
        "print(\"enter you username\")\n",
        "username = input()\n",
        "print(\"enter your password\")\n",
        "password = getpass()\n",
        "dimcli.login(username, password)\n",
        "dsl = dimcli.Dsl()"
      ],
      "execution_count": null,
      "outputs": []
    },
    {
      "cell_type": "code",
      "metadata": {
        "id": "jMMrL1I2q7YC",
        "colab_type": "code",
        "colab": {}
      },
      "source": [
        "import datetime\n",
        "import matplotlib\n",
        "import matplotlib.pyplot as plt\n",
        "import seaborn as sns\n",
        "sns.set()\n",
        "#\"grid.214458.e\""
      ],
      "execution_count": null,
      "outputs": []
    },
    {
      "cell_type": "code",
      "metadata": {
        "id": "a1AR4tqgka5J",
        "colab_type": "code",
        "colab": {}
      },
      "source": [
        "%%dslloopdf\n",
        "\n",
        "search grants \n",
        "    where research_orgs.id = \"grid.1008.9\" \n",
        "  \n",
        "return grants[all] "
      ],
      "execution_count": null,
      "outputs": []
    },
    {
      "cell_type": "code",
      "metadata": {
        "id": "srAmG7WLGkUI",
        "colab_type": "code",
        "colab": {}
      },
      "source": [
        "dsl.query_iterative(\"\"\"search grants \n",
        "    where research_orgs.id = \"grid.1008.9\" \n",
        "return grants[all]\"\"\").as_dataframe()\n"
      ],
      "execution_count": null,
      "outputs": []
    },
    {
      "cell_type": "code",
      "metadata": {
        "id": "_uKRB7exSYuS",
        "colab_type": "code",
        "colab": {}
      },
      "source": [
        "dsl_last_results[['active_year','start_date']]"
      ],
      "execution_count": null,
      "outputs": []
    },
    {
      "cell_type": "markdown",
      "metadata": {
        "id": "XwZx7-rfI-9U",
        "colab_type": "text"
      },
      "source": [
        "## Make a function to calculate awarded funding by active year"
      ]
    },
    {
      "cell_type": "code",
      "metadata": {
        "id": "rwqHJci8kqpV",
        "colab_type": "code",
        "colab": {}
      },
      "source": [
        "def get_award_fraction(id,start_date, end_date, active_year):\n",
        "\n",
        "  #print(start_date, end_date, active_year)\n",
        "\n",
        "  #If there is a start date but no end date, assume all funding is in the year awarded\n",
        "  if (type(start_date) == str) and (type(end_date) != str):\n",
        "    s_date = datetime.datetime.strptime(start_date, \"%Y-%m-%d\")\n",
        "    duration_m = 12\n",
        "\n",
        "  #For awards with both a start date and an end date, calculate a duration\n",
        "  elif (type(start_date) == str) and (type(end_date) == str):\n",
        "    s_date = datetime.datetime.strptime(start_date, \"%Y-%m-%d\")\n",
        "    e_date = datetime.datetime.strptime(end_date, \"%Y-%m-%d\")\n",
        "    duration_m = ((e_date.year - s_date.year) * 12) + (e_date.month - s_date.month) \n",
        "  \n",
        "  # Otherwise there is nothing we can do with this grant - tell me about it\n",
        "  # Assume start and end dates are on the last day of the month\n",
        "\n",
        "  else:\n",
        "    print(id,start_date, end_date, active_year)\n",
        "    return 0\n",
        "  \n",
        "  if duration_m > 12:\n",
        "    if s_date.year == active_year:\n",
        "      return (12 - s_date.month)/duration_m\n",
        "    if e_date.year == active_year:\n",
        "      return (e_date.month)/duration_m\n",
        "    else:\n",
        "      return 12/duration_m\n",
        "  else:\n",
        "    return 1\n",
        "\n",
        "\n"
      ],
      "execution_count": null,
      "outputs": []
    },
    {
      "cell_type": "markdown",
      "metadata": {
        "id": "H9pNJNQQKIAJ",
        "colab_type": "text"
      },
      "source": [
        "## Take the list of active years, and make a row for each active year\n",
        "\n",
        "explode!  \n",
        "\n"
      ]
    },
    {
      "cell_type": "code",
      "metadata": {
        "id": "fQmu9yr0JLKw",
        "colab_type": "code",
        "colab": {}
      },
      "source": [
        "funding = dsl_last_results.explode('active_year') # explode made each active year in each row \n",
        "funding[['active_year']]\n"
      ],
      "execution_count": null,
      "outputs": []
    },
    {
      "cell_type": "markdown",
      "metadata": {
        "id": "-Iv-bH-vKr5t",
        "colab_type": "text"
      },
      "source": [
        "Now we can use our function to calculate the amount of funding that can be added proportionally to the year from the amount awarded. (choosing usd for this example...)"
      ]
    },
    {
      "cell_type": "code",
      "metadata": {
        "id": "5-c0rELDKwBl",
        "colab_type": "code",
        "colab": {}
      },
      "source": [
        "# calculate the award fraction for each active year\n",
        "funding['award_fraction'] = funding.apply(lambda f: f.funding_usd * get_award_fraction(f.id,f.start_date, f.end_date, f.active_year), axis=1)"
      ],
      "execution_count": null,
      "outputs": []
    },
    {
      "cell_type": "markdown",
      "metadata": {
        "id": "_iUnq6jSA9yz",
        "colab_type": "text"
      },
      "source": [
        "## Plot the awarded funding by active year"
      ]
    },
    {
      "cell_type": "code",
      "metadata": {
        "id": "qYQzvNsyZqEp",
        "colab_type": "code",
        "colab": {}
      },
      "source": [
        "# make sure all year values are valid. (get rid of rows that don't have a start year)\n",
        "funding['start_year'] = funding['start_year'].fillna(0).astype(int)\n",
        "\n",
        "ay = funding.groupby(['active_year']).\\\n",
        "    agg({'award_fraction':'sum'}).\\\n",
        "    reset_index()"
      ],
      "execution_count": null,
      "outputs": []
    },
    {
      "cell_type": "code",
      "metadata": {
        "id": "bd66LXlytGtI",
        "colab_type": "code",
        "colab": {}
      },
      "source": [
        "sns.set_palette(\"Set1\")\n",
        "ay[ay['active_year'].isin(range(2011,2025))].plot(x='active_year', y='award_fraction')"
      ],
      "execution_count": null,
      "outputs": []
    },
    {
      "cell_type": "markdown",
      "metadata": {
        "id": "5DW9cDv5BIen",
        "colab_type": "text"
      },
      "source": [
        "## What Story does this graph tell?\n",
        "\n",
        "Where did the funding come from? (which start year?)"
      ]
    },
    {
      "cell_type": "code",
      "metadata": {
        "id": "o1BoLdMHlCKb",
        "colab_type": "code",
        "colab": {}
      },
      "source": [
        "# we are only interested in looking at awards since 2009 in detail\n",
        "funding.start_year = funding.start_year.apply(lambda y: y if y > 2009 else 2009)\n",
        "\n",
        "# add up the award fractions by actvie year\n",
        "fp = funding.groupby(['start_year','active_year']).\\\n",
        "    agg({'award_fraction':'sum'}).\\\n",
        "    reset_index().\\\n",
        "    pivot(columns='start_year', index='active_year', values='award_fraction')\n",
        "\n",
        "\n",
        "# now we have a matrix of funding by active year, broken down by the year that it was awarded\n",
        "fp[fp.index.isin(range(2011,2025,1))][range(2009,2021,1)]"
      ],
      "execution_count": null,
      "outputs": []
    },
    {
      "cell_type": "code",
      "metadata": {
        "id": "npcPcaYK0fEa",
        "colab_type": "code",
        "colab": {}
      },
      "source": [
        "# Set up the graph, choose some colours and figure size\n",
        "sns.set_palette([\"lightgrey\"]+sns.color_palette(\"cubehelix_r\", 11))\n",
        "fig, ax = plt.subplots(1, figsize=(15,10))\n",
        "\n",
        "fp[fp.index.isin(range(2011,2030,1))][range(2009,2021,1)].\\\n",
        "    rename(columns={2009:'All years. to 2009'}).\\\n",
        "    plot(kind='bar', \n",
        "         stacked=True,\n",
        "         title=\"Funding pipeline\", \n",
        "         ax=ax)\n",
        "\n",
        "# Format the legend\n",
        "ax.legend(bbox_to_anchor=(0., -.25, 1., .102), loc='lower left',\n",
        "           ncol=4, \n",
        "          mode=\"expand\", \n",
        "          borderaxespad=0., \n",
        "          facecolor='white',\n",
        "          title=\"year of award (start_year)\")\n",
        "\n",
        "# Format y axis\n",
        "ax.get_yaxis().set_major_formatter(\n",
        "    matplotlib.ticker.FuncFormatter(lambda y, p: format(int(y/1000000), ',')))\n",
        "ax.set_ylabel(\"Awarded Funding in Millions\")\n",
        "\n",
        "ax.set_xlabel(\"Funding by active year\")"
      ],
      "execution_count": null,
      "outputs": []
    },
    {
      "cell_type": "code",
      "metadata": {
        "id": "MFJiIVSIZ327",
        "colab_type": "code",
        "colab": {}
      },
      "source": [
        "\n",
        "fop_order = list(funding.groupby(['funding_org_name']).\\\n",
        "    agg({'award_fraction':'sum'}).\\\n",
        "    reset_index().\\\n",
        "    sort_values(by='award_fraction', ascending=False).funding_org_name)\n",
        "\n",
        "funding.funding_org_name = funding.funding_org_name.apply(lambda o: o if o in fop_order[:20] else 'Other Funding Body')\n",
        "\n",
        "sns.set_palette( \n",
        "    \n",
        "                 sns.color_palette(\"Greens\", 5) \n",
        "               + sns.color_palette(\"Blues_r\", 5) \n",
        "               + sns.color_palette(\"Reds\", 10)\n",
        "\n",
        "               )\n",
        "\n",
        "fig, ax = plt.subplots(1, figsize=(15,10))\n",
        "\n",
        "\n",
        "fop = funding.groupby(['funding_org_name','active_year']).\\\n",
        "    agg({'award_fraction':'sum'}).\\\n",
        "    reset_index().\\\n",
        "    pivot(columns='funding_org_name', index='active_year', values='award_fraction')[fop_order[:20]]\n",
        "\n",
        "fop[fop.index.isin(range(2011,2030,1))].\\\n",
        "    plot(kind='bar', \n",
        "         stacked=True, \n",
        "         ax=ax,\n",
        "         title=\"Funding pipline by sponsor\")\n",
        "\n",
        "# Format legend\n",
        "ax.legend(bbox_to_anchor=(0., -.45, 1., .102), loc='lower left',\n",
        "           ncol=2, \n",
        "          mode=\"expand\", \n",
        "          borderaxespad=0., \n",
        "          facecolor='white',\n",
        "          title=\"Sponsor name\")\n",
        "\n",
        "# Format axis\n",
        "ax.get_yaxis().set_major_formatter(\n",
        "    matplotlib.ticker.FuncFormatter(lambda y, p: format(int(y/1000000), ',')))\n",
        "ax.set_ylabel(\"Awarded funding in Millions\")\n",
        "\n",
        "ax.set_xlabel(\"Funding by active award year\")"
      ],
      "execution_count": null,
      "outputs": []
    },
    {
      "cell_type": "code",
      "metadata": {
        "id": "BpiWFl_kmc1P",
        "colab_type": "code",
        "colab": {}
      },
      "source": [
        "funding['total FOR_first'] = funding.FOR_first.apply(lambda l: len(l) if type(l) == list else 1)\n",
        "FOR_funding = funding.explode('FOR_first')\n",
        "FOR_funding['FOR name'] = FOR_funding.FOR_first.apply(lambda d: d['name'] if type(d) == dict else \"Unclassified\")\n",
        "FOR_funding['award_fraction'] = FOR_funding['award_fraction'] / FOR_funding['total FOR_first']\n",
        "\n",
        "funding = FOR_funding\n",
        "\n",
        "sns.set_palette( \n",
        "    \n",
        "                  sns.color_palette(\"Greens\", 8)[0:5] \n",
        "                + sns.color_palette(\"Blues\", 4)[0:2] \n",
        "                + sns.color_palette(\"Greens\", 8)[5:8]\n",
        "                + sns.color_palette(\"Blues\", 4)[2:3]\n",
        "                + sns.color_palette(\"Reds\", 10)[0:5]\n",
        "                + sns.color_palette(\"Blues\", 4)[3:4]\n",
        "                + sns.color_palette(\"Reds\", 5)[5:10]\n",
        "\n",
        "               )\n",
        "\n",
        "fig, ax = plt.subplots(1, figsize=(15,10))\n",
        "\n",
        "#funding.start_year = funding.start_year.apply(lambda y: y if y > 2009 else 2009)\n",
        "\n",
        "print(funding.start_year.unique())\n",
        "\n",
        "fp = funding.groupby(['FOR name','active_year']).\\\n",
        "    agg({'award_fraction':'sum'}).\\\n",
        "    reset_index().\\\n",
        "    pivot(columns='FOR name', index='active_year', values='award_fraction')\n",
        "\n",
        "fp[fp.index.isin(range(2011,2025,1))].\\\n",
        "    plot(kind='bar', stacked=True, ax=ax, title='Funding piplie for COVID-19 authors. Funding tagged by the Field of Research of award ')\n",
        "\n",
        "ax.legend(bbox_to_anchor=(0., -.55, 1., .102), loc='lower left',\n",
        "           ncol=2, mode=\"expand\", borderaxespad=0., facecolor='white', title=\"Field of Research\")\n",
        "\n",
        "# Format y axis\n",
        "ax.get_yaxis().set_major_formatter(\n",
        "    matplotlib.ticker.FuncFormatter(lambda y, p: format(int(y/1000000), ',')))\n",
        "ax.set_ylabel(\"Awarded funding in Millions\")\n",
        "\n",
        "ax.set_xlabel(\"Funding by active year\")"
      ],
      "execution_count": null,
      "outputs": []
    },
    {
      "cell_type": "markdown",
      "metadata": {
        "id": "OsD2eL1-cKmk",
        "colab_type": "text"
      },
      "source": [
        "## COVID-19 Example\n",
        "\n",
        "What does the funding pipeline look like for researchers who are contributing to COVID-19 research?\n",
        "\n",
        "Recepie:\n",
        "\n",
        "1. Get the grants\n",
        "\n",
        "  1.1 get the covid papers. \n",
        "\n",
        "  1.2 find out which grants they are acknowledging. \n",
        "\n",
        "  1.3 get the details of all active grants\n",
        "\n",
        "  1.4 add any grants that actively reference covid-19\n",
        "\n",
        "2. Analyse the pipeline as before\n",
        "  \n",
        "\n"
      ]
    },
    {
      "cell_type": "code",
      "metadata": {
        "id": "SRUGMpi_PcEU",
        "colab_type": "code",
        "colab": {}
      },
      "source": [
        "# Step 1 - get the COVID-19 papers\n",
        "\n",
        "numdays = (datetime.datetime.today() - datetime.datetime(2020, 1, 1, 0, 0)).days\n",
        "print(numdays)\n",
        "base = datetime.datetime.today()\n",
        "datelist = sorted([(base - datetime.timedelta(days=x)).strftime('%Y-%m-%d')\n",
        "             for x in range(0,numdays+7,7)])\n",
        "datelist\n",
        "\n",
        "dfl = []\n",
        "for dl in [ datelist[i:i+2] for i, d in enumerate(datelist)]:\n",
        "    print (len(dl))\n",
        "    if len(dl)==2:\n",
        "        dfl.append(\n",
        "            dsl.query_iterative(\n",
        "                f\"\"\"\n",
        "                         search publications in full_data for \"   \\\\\"2019-nCoV\\\\\"\n",
        "                                                    OR \\\\\"COVID-19\\\\\" \n",
        "                                                    OR \\\\\"SARS-CoV-2\\\\\" \n",
        "                                                    OR \\\\\"HCoV-2019\\\\\" \n",
        "                                                    OR \\\\\"hcov\\\\\" \n",
        "                                                    OR \\\\\"NCOVID-19\\\\\" \n",
        "                                                    OR \\\\\"severe acute respiratory syndrome coronavirus 2\\\\\" \n",
        "                                                    OR \\\\\"severe acute respiratory syndrome corona virus 2\\\\\" \n",
        "                                                    OR ((\\\\\"coronavirus\\\\\"  OR \\\\\"corona virus\\\\\") AND (Wuhan OR China OR novel))\"\n",
        "                          where year=2020\n",
        "                          and date_inserted > \"{dl[0]}\" \n",
        "                          and date_inserted <= \"{dl[1]}\" \n",
        "                          return publications[id+authors+supporting_grant_ids]\n",
        "                \"\"\"\n",
        "            )\n",
        "        )\n",
        "\n",
        "\n"
      ],
      "execution_count": null,
      "outputs": []
    },
    {
      "cell_type": "code",
      "metadata": {
        "id": "KKbPVpMMcZy4",
        "colab_type": "code",
        "colab": {}
      },
      "source": [
        "pubs = pd.concat([res.as_dataframe() for res in dfl])\n",
        "authors = pd.concat([res.as_dataframe_authors() for res in dfl]) \n",
        "authors.to_pickle('covid_authos.pkl')   \n",
        "pubs.to_pickle('covid_publications.pkl')"
      ],
      "execution_count": null,
      "outputs": []
    },
    {
      "cell_type": "code",
      "metadata": {
        "id": "7wo8kfNlQMZC",
        "colab_type": "code",
        "colab": {}
      },
      "source": [
        ""
      ],
      "execution_count": null,
      "outputs": []
    },
    {
      "cell_type": "code",
      "metadata": {
        "id": "ht3dLcxscJ7C",
        "colab_type": "code",
        "colab": {}
      },
      "source": [
        "\n",
        "\n",
        "pubs = pd.read_pickle('covid_publications.pkl')\n",
        "\n",
        "# Step 2 - get the grant details\n",
        "\n",
        "grant_ids = list(pubs.explode('supporting_grant_ids').supporting_grant_ids.dropna().unique()\n",
        ")\n",
        "\n",
        "print(len([grant_ids[n:n+250] for n in range(0,len(grant_ids),250)])) # 250 is the interval \n",
        "\n",
        "query_results = []\n",
        "\n",
        "for gids in [grant_ids[n:n+250] for n in range(0,len(grant_ids),250)]:\n",
        "\n",
        "      mygrantslist = json.dumps(gids)\n",
        "\n",
        "      query_results.append(\n",
        "          \n",
        "                  dsl.query_iterative(f\"\"\"\n",
        "                        search grants\n",
        "                            where id in {mygrantslist}\n",
        "                            and active_year=2020\n",
        "                            return grants[all]\n",
        "                        \"\"\").as_dataframe()\n",
        "      )\n",
        "\n",
        "# also add direct covid-19 grants (there are not very many yet, but this will change rapidly)\n",
        "\n",
        "query_results.append(\n",
        "          \n",
        "                  dsl.query_iterative(f\"\"\"\n",
        "                        search grants for {covidsearch}\n",
        "                            where \n",
        "                                start_year=2020\n",
        "                            return grants[all]\n",
        "                        \"\"\").as_dataframe()\n",
        "      )\n",
        "\n",
        "\n",
        "\n",
        "# Step 3 -dedupulicate grants\n",
        "covid_funding_grants = pd.concat(query_results).\\\n",
        "                drop_duplicates(subset='id')\n",
        "\n",
        "\n"
      ],
      "execution_count": null,
      "outputs": []
    },
    {
      "cell_type": "code",
      "metadata": {
        "id": "IsbWEq0pgOLN",
        "colab_type": "code",
        "colab": {}
      },
      "source": [
        "\n",
        "funding = covid_funding_grants.explode('active_year')\n",
        "\n",
        "funding['award_fraction'] = funding.apply(lambda f: f.funding_usd * get_award_fraction(f.id,f.start_date, f.end_date, f.active_year), axis=1)\n",
        "funding['start_year'] = funding['start_year'].fillna(0).astype(int)\n",
        "\n",
        "fop_order = list(funding.groupby(['funding_org_name']).\\\n",
        "    agg({'award_fraction':'sum'}).\\\n",
        "    reset_index().\\\n",
        "    sort_values(by='award_fraction', ascending=False).funding_org_name)\n",
        "\n",
        "sns.set_palette( sns.color_palette(\"Greens\", 5)+sns.color_palette(\"Blues_r\", 5)+sns.color_palette(\"Reds\", 10))\n",
        "fig, ax = plt.subplots(1, figsize=(15,10))\n",
        "\n",
        "#funding.start_year = funding.start_year.apply(lambda y: y if y > 2009 else 2009)\n",
        "\n",
        "funding.funding_org_name = funding.funding_org_name.apply(lambda o: o if o in fop_order[:20] else 'Other Funding Body')\n",
        "\n",
        "print(funding.start_year.unique())\n",
        "\n",
        "fop = funding[['funding_org_name','active_year','award_fraction']].\\\n",
        "    groupby(['funding_org_name','active_year']).\\\n",
        "    agg({'award_fraction':'sum'}).\\\n",
        "    reset_index().\\\n",
        "    pivot(columns='funding_org_name', index='active_year', values='award_fraction')[funding.funding_org_name.unique()]\n",
        "\n",
        "fop[fop.index.isin(range(2011,2030,1))].\\\n",
        "    plot(kind='bar', stacked=True, ax=ax)\n",
        "\n",
        "ax.legend(bbox_to_anchor=(0., -.4, 1., .102), loc='lower left',\n",
        "           ncol=2, mode=\"expand\", borderaxespad=0., facecolor='white')"
      ],
      "execution_count": null,
      "outputs": []
    },
    {
      "cell_type": "code",
      "metadata": {
        "id": "mepQzgqVhsdx",
        "colab_type": "code",
        "colab": {}
      },
      "source": [
        "sns.set_palette([\"lightgrey\"]+sns.color_palette(\"cubehelix_r\", 10)+[\"red\"])\n",
        "fig, ax = plt.subplots(1, figsize=(15,10))\n",
        "\n",
        "funding.start_year = funding.start_year.apply(lambda y: y if y > 2009 else 2009)\n",
        "\n",
        "print(funding.start_year.unique())\n",
        "\n",
        "fp = funding.groupby(['start_year','active_year']).\\\n",
        "    agg({'award_fraction':'sum'}).\\\n",
        "    reset_index().\\\n",
        "    pivot(columns='start_year', index='active_year', values='award_fraction')\n",
        "\n",
        "fp[fp.index.isin(range(2011,2030,1))][range(2009,2021,1)].\\\n",
        "    rename(columns={2009:'-2009'}).\\\n",
        "    plot(kind='bar', stacked=True, ax=ax)\n",
        "\n",
        "ax.legend(bbox_to_anchor=(0., -.25, 1., .102), loc='lower left',\n",
        "           ncol=4, mode=\"expand\", borderaxespad=0., facecolor='white',\n",
        "          title=\"award start year\")\n",
        "\n",
        "# Format y axis\n",
        "ax.get_yaxis().set_major_formatter(\n",
        "    matplotlib.ticker.FuncFormatter(lambda y, p: format(int(y/1000000), ',')))\n",
        "ax.set_ylabel(\"Awarded Funding in Millions\")\n",
        "\n",
        "ax.set_xlabel(\"Funding by active year\")"
      ],
      "execution_count": null,
      "outputs": []
    },
    {
      "cell_type": "code",
      "metadata": {
        "id": "hQUbHK4WlbXW",
        "colab_type": "code",
        "colab": {}
      },
      "source": [
        ""
      ],
      "execution_count": null,
      "outputs": []
    },
    {
      "cell_type": "markdown",
      "metadata": {
        "id": "53HtMYEcAbam",
        "colab_type": "text"
      },
      "source": [
        "## COVID -19 researchers -> active grants\n",
        "\n",
        "Look at all researchers who have published a covid-19 paper, and look at their funding pipeline"
      ]
    },
    {
      "cell_type": "code",
      "metadata": {
        "id": "YPRbi1SpAhWn",
        "colab_type": "code",
        "colab": {}
      },
      "source": [
        "\n",
        "authors = pd.read_pickle('covid_authos.pkl')   \n",
        "\n",
        "# Step 2 - get the grant details\n",
        "\n",
        "researcher_ids = list(authors[authors['researcher_id'] != ''].researcher_id.unique())\n",
        "\n",
        "\n",
        "\n",
        "query_results = []\n",
        "\n",
        "for gids in [researcher_ids[n:n+250] for n in range(0,len(researcher_ids),250)]:\n",
        "\n",
        "      myreslist = json.dumps(gids)\n",
        "\n",
        "      query_results.append(\n",
        "          \n",
        "                  dsl.query_iterative(f\"\"\"\n",
        "                        search grants\n",
        "                            where researchers.id in {myreslist}\n",
        "                            and active_year=2020\n",
        "                            return grants[all]\n",
        "                        \"\"\").as_dataframe()\n",
        "      )\n",
        "\n",
        "# also add direct covid-19 grants\n",
        "\n",
        "query_results.append(\n",
        "          \n",
        "                  dsl.query_iterative(f\"\"\"\n",
        "                        search grants for {covidsearch}\n",
        "                            where \n",
        "                                start_year=2020\n",
        "                            return grants[all]\n",
        "                        \"\"\").as_dataframe()\n",
        "      )\n",
        "\n",
        "\n",
        "\n",
        "# Step 3 -depulicate grants\n",
        "covid_funding_from_researchers = pd.concat(query_results).\\\n",
        "                drop_duplicates(subset='id')"
      ],
      "execution_count": null,
      "outputs": []
    },
    {
      "cell_type": "code",
      "metadata": {
        "id": "Jj4sQ0ADBQPU",
        "colab_type": "code",
        "colab": {}
      },
      "source": [
        "funding = covid_funding_from_researchers.explode('active_year')\n",
        "\n",
        "funding['award_fraction'] = funding.apply(lambda f: f.funding_usd * get_award_fraction(f.id,f.start_date, f.end_date, f.active_year), axis=1)\n",
        "funding['start_year'] = funding['start_year'].fillna(0).astype(int)\n",
        "\n",
        "fop_order = list(funding.groupby(['funding_org_name']).\\\n",
        "    agg({'award_fraction':'sum'}).\\\n",
        "    reset_index().\\\n",
        "    sort_values(by='award_fraction', ascending=False).funding_org_name)\n",
        "\n",
        "sns.set_palette( sns.color_palette(\"Greens\", 6)+sns.color_palette(\"Blues_r\", 5)+sns.color_palette(\"Reds\", 10))\n",
        "fig, ax = plt.subplots(1, figsize=(15,10))\n",
        "\n",
        "\n",
        "funding.funding_org_name = funding.funding_org_name.apply(lambda o: o if o in fop_order[:20] else 'Other Funding Body')\n",
        "\n",
        "fop = funding[['funding_org_name','active_year','award_fraction']].\\\n",
        "    groupby(['funding_org_name','active_year']).\\\n",
        "    agg({'award_fraction':'sum'}).\\\n",
        "    reset_index().\\\n",
        "    pivot(columns='funding_org_name', index='active_year', values='award_fraction')[funding.funding_org_name.unique()]\n",
        "\n",
        "fop[fop.index.isin(range(2011,2030,1))].\\\n",
        "    plot(kind='bar', stacked=True, ax=ax, title=\"Funding pipline for active research associated with authors of COVID-19 papers\")\n",
        "\n",
        "\n",
        "\n",
        "\n",
        "ax.legend(bbox_to_anchor=(0., -.50, 1., .102), loc='lower left',\n",
        "           ncol=2, mode=\"expand\", borderaxespad=0., facecolor='white', title=\"Funding by award sponsor\")\n",
        "\n",
        "# Format axis\n",
        "ax.get_yaxis().set_major_formatter(\n",
        "    matplotlib.ticker.FuncFormatter(lambda y, p: format(int(y/1000000), ',')))\n",
        "ax.set_ylabel(\"Awarded funding in Millions\")\n",
        "\n",
        "ax.set_xlabel(\"Funding by active award year\")"
      ],
      "execution_count": null,
      "outputs": []
    },
    {
      "cell_type": "code",
      "metadata": {
        "id": "ySmjXn6ZB0Xe",
        "colab_type": "code",
        "colab": {}
      },
      "source": [
        "sns.set_palette([\"lightgrey\"]+sns.color_palette(\"cubehelix_r\", 10)+[\"red\"])\n",
        "fig, ax = plt.subplots(1, figsize=(15,10))\n",
        "\n",
        "funding.start_year = funding.start_year.apply(lambda y: y if y > 2009 else 2009)\n",
        "\n",
        "print(funding.start_year.unique())\n",
        "\n",
        "fp = funding.groupby(['start_year','active_year']).\\\n",
        "    agg({'award_fraction':'sum'}).\\\n",
        "    reset_index().\\\n",
        "    pivot(columns='start_year', index='active_year', values='award_fraction')\n",
        "\n",
        "fp[fp.index.isin(range(2011,2025,1))][range(2009,2021,1)].\\\n",
        "    rename(columns={2009:'-2009'}).\\\n",
        "    plot(kind='bar', stacked=True, ax=ax, title='Funding piplie for COVID-19 authors. Funding tagged by the start year of award ')\n",
        "\n",
        "ax.legend(bbox_to_anchor=(0., -.25, 1., .102), loc='lower left',\n",
        "           ncol=4, mode=\"expand\", borderaxespad=0., facecolor='white', title=\"Funding by start year\")\n",
        "\n",
        "# Format y axis\n",
        "ax.get_yaxis().set_major_formatter(\n",
        "    matplotlib.ticker.FuncFormatter(lambda y, p: format(int(y/1000000), ',')))\n",
        "ax.set_ylabel(\"Awarded funding in Millions\")\n",
        "\n",
        "ax.set_xlabel(\"Funding by active year\")"
      ],
      "execution_count": null,
      "outputs": []
    },
    {
      "cell_type": "code",
      "metadata": {
        "id": "RcKif6VnZxxK",
        "colab_type": "code",
        "colab": {}
      },
      "source": [
        ""
      ],
      "execution_count": null,
      "outputs": []
    },
    {
      "cell_type": "markdown",
      "metadata": {
        "id": "4o0AMCjdllXI",
        "colab_type": "text"
      },
      "source": [
        "## COVID funded pipeline by field of research"
      ]
    },
    {
      "cell_type": "code",
      "metadata": {
        "id": "BH18WG-Oh7O3",
        "colab_type": "code",
        "colab": {}
      },
      "source": [
        "funding['total FOR_first'] = funding.FOR_first.apply(lambda l: len(l) if type(l) == list else 1)\n",
        "FOR_funding = funding.explode('FOR_first')\n",
        "FOR_funding['FOR name'] = FOR_funding.FOR_first.apply(lambda d: d['name'] if type(d) == dict else \"Unclassified\")\n",
        "FOR_funding['award_fraction'] = FOR_funding['award_fraction'] / FOR_funding['total FOR_first']\n",
        "\n",
        "FOR_funding\n",
        "\n",
        "sns.set_palette([\"lightgrey\"]+sns.color_palette(\"cubehelix_r\", 21)+[\"red\"])\n",
        "fig, ax = plt.subplots(1, figsize=(15,10))\n",
        "\n",
        "#funding.start_year = funding.start_year.apply(lambda y: y if y > 2009 else 2009)\n",
        "\n",
        "print(FOR_funding.start_year.unique())\n",
        "\n",
        "fp = FOR_funding.groupby(['FOR name','active_year']).\\\n",
        "    agg({'award_fraction':'sum'}).\\\n",
        "    reset_index().\\\n",
        "    pivot(columns='FOR name', index='active_year', values='award_fraction')\n",
        "\n",
        "fp[fp.index.isin(range(2011,2025,1))].\\\n",
        "    plot(kind='bar', stacked=True, ax=ax, title='Funding piplie for COVID-19 authors. Funding tagged by the Field of Research of award ')\n",
        "\n",
        "ax.legend(bbox_to_anchor=(0., -.55, 1., .102), loc='lower left',\n",
        "           ncol=2, mode=\"expand\", borderaxespad=0., facecolor='white', title=\"Field of Research\")\n",
        "\n",
        "# Format y axis\n",
        "ax.get_yaxis().set_major_formatter(\n",
        "    matplotlib.ticker.FuncFormatter(lambda y, p: format(int(y/1000000), ',')))\n",
        "ax.set_ylabel(\"Awarded funding in Millions\")\n",
        "\n",
        "ax.set_xlabel(\"Funding by active year\")"
      ],
      "execution_count": null,
      "outputs": []
    },
    {
      "cell_type": "code",
      "metadata": {
        "id": "HMCvWigYh7um",
        "colab_type": "code",
        "colab": {}
      },
      "source": [
        ""
      ],
      "execution_count": null,
      "outputs": []
    },
    {
      "cell_type": "code",
      "metadata": {
        "id": "_alnbPfejRwZ",
        "colab_type": "code",
        "colab": {}
      },
      "source": [
        "RCDC_funding = funding.explode('category_for')"
      ],
      "execution_count": null,
      "outputs": []
    },
    {
      "cell_type": "code",
      "metadata": {
        "id": "DYYrTVuQjU20",
        "colab_type": "code",
        "colab": {}
      },
      "source": [
        "funding.columns"
      ],
      "execution_count": null,
      "outputs": []
    },
    {
      "cell_type": "code",
      "metadata": {
        "id": "m-IDLreoj6uL",
        "colab_type": "code",
        "colab": {}
      },
      "source": [
        "funding['total RCDC'] = funding.category_rcdc.apply(lambda l: len(l) if type(l) == list else 1)\n",
        "RCDC_funding = funding.explode('category_rcdc')\n",
        "RCDC_funding['RCDC name'] = RCDC_funding.category_rcdc.apply(lambda d: d['name'] if type(d) == dict else \"Unclassified\")\n",
        "RCDC_funding['award_fraction'] = RCDC_funding['award_fraction'] / RCDC_funding['total RCDC']\n",
        "\n",
        "RCDC_funding\n",
        "\n",
        "sns.set_palette([\"lightgrey\"]+sns.color_palette(\"cubehelix_r\", 21)+[\"red\"])\n",
        "fig, ax = plt.subplots(1, figsize=(15,10))\n",
        "\n",
        "#funding.start_year = funding.start_year.apply(lambda y: y if y > 2009 else 2009)\n",
        "\n",
        "print(RCDC_funding.start_year.unique())\n",
        "\n",
        "fp = RCDC_funding.groupby(['RCDC name','active_year']).\\\n",
        "    agg({'award_fraction':'sum'}).\\\n",
        "    reset_index().\\\n",
        "    pivot(columns='RCDC name', index='active_year', values='award_fraction')\n",
        "\n",
        "top_20 = fp[fp.index == 2020].transpose().sort_values(by=2020, ascending=False).head(20).index.to_list()\n",
        "\n",
        "fp[fp.index.isin(range(2011,2025,1))][top_20].\\\n",
        "    plot(kind='bar', stacked=True, ax=ax, title='Funding piplie for COVID-19 authors. Funding tagged by RCDC')\n",
        "\n",
        "ax.legend(bbox_to_anchor=(0., -.55, 1., .102), loc='lower left',\n",
        "           ncol=2, mode=\"expand\", borderaxespad=0., facecolor='white', title=\"RCDC Category\")\n",
        "\n",
        "# Format y axis\n",
        "ax.get_yaxis().set_major_formatter(\n",
        "    matplotlib.ticker.FuncFormatter(lambda y, p: format(int(y/1000000), ',')))\n",
        "ax.set_ylabel(\"Awarded funding in Millions\")\n",
        "\n",
        "ax.set_xlabel(\"Funding by active year\")"
      ],
      "execution_count": null,
      "outputs": []
    },
    {
      "cell_type": "code",
      "metadata": {
        "id": "zwkl_45tkjNa",
        "colab_type": "code",
        "colab": {}
      },
      "source": [
        "fp[fp.index == 2020].transpose().sort_values(by=2020, ascending=False).head(20).index.to_list()"
      ],
      "execution_count": null,
      "outputs": []
    },
    {
      "cell_type": "code",
      "metadata": {
        "id": "vniPnmqhwyLq",
        "colab_type": "code",
        "colab": {}
      },
      "source": [
        ""
      ],
      "execution_count": null,
      "outputs": []
    }
  ]
}